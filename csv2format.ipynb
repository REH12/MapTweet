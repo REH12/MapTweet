{
 "cells": [
  {
   "cell_type": "code",
   "execution_count": 86,
   "metadata": {
    "collapsed": true
   },
   "outputs": [],
   "source": [
    "# imports modules and reads in dataframe\n",
    "import numpy\n",
    "import csv\n",
    "file = open('geotweets.csv')\n",
    "data = csv.reader(file)\n",
    "\n",
    "data2 = [x for x in data if x != []]"
   ]
  },
  {
   "cell_type": "code",
   "execution_count": 79,
   "metadata": {
    "collapsed": false
   },
   "outputs": [],
   "source": [
    "#Create empty lists to append data to\n",
    "x = []\n",
    "y = []\n",
    "\n",
    "#Loop to pull out coords, appending them to an empty list as floats\n",
    "#The items are also stripped of unwanted characters such as brackets and commas\n",
    "for row in data2:\n",
    "    items = row[2].split()\n",
    "    if (len(items) != 0) and (items[3][1:-1] != \"type'\"):\n",
    "        x.append(float(items[3][1:-1]))\n",
    "        y.append(float(items[4][:-2]))"
   ]
  },
  {
   "cell_type": "code",
   "execution_count": 80,
   "metadata": {
    "collapsed": false
   },
   "outputs": [],
   "source": [
    "#Convert lists into arrays\n",
    "array_x = numpy.asarray(x)\n",
    "array_y = numpy.asarray(y)"
   ]
  },
  {
   "cell_type": "code",
   "execution_count": 81,
   "metadata": {
    "collapsed": true
   },
   "outputs": [],
   "source": [
    "#Merge the x and y coordinate arrays\n",
    "data = numpy.array([array_x, array_y])"
   ]
  },
  {
   "cell_type": "code",
   "execution_count": 82,
   "metadata": {
    "collapsed": true
   },
   "outputs": [],
   "source": [
    "#Transpose so that each coordinate has its own column\n",
    "data = data.transpose()"
   ]
  },
  {
   "cell_type": "code",
   "execution_count": 83,
   "metadata": {
    "collapsed": false
   },
   "outputs": [
    {
     "name": "stdout",
     "output_type": "stream",
     "text": [
      "[[ -0.126178    51.5153923 ]\n",
      " [ -0.14052332  51.51832828]\n",
      " [ -0.1003585   51.5190086 ]\n",
      " ..., \n",
      " [ -3.52498807  50.72742726]\n",
      " [ -2.8881104   53.1844673 ]\n",
      " [  0.4716388   51.0150909 ]]\n"
     ]
    }
   ],
   "source": [
    "print(data)"
   ]
  },
  {
   "cell_type": "code",
   "execution_count": 84,
   "metadata": {
    "collapsed": true
   },
   "outputs": [],
   "source": [
    "#Write out the merged array\n",
    "numpy.savetxt('coords.txt', data)"
   ]
  },
  {
   "cell_type": "code",
   "execution_count": 94,
   "metadata": {
    "collapsed": false
   },
   "outputs": [],
   "source": [
    "# check where date and time is\n",
    "time = []\n",
    "\n",
    "for row in data2:\n",
    "    items = row[0].split()\n",
    "    items_lat = row[2].split()\n",
    "    if (len(items) != 0) and (items_lat[3][1:-1] != \"type'\"):\n",
    "        time.append(items[1])\n"
   ]
  },
  {
   "cell_type": "code",
   "execution_count": 105,
   "metadata": {
    "collapsed": false
   },
   "outputs": [
    {
     "name": "stdout",
     "output_type": "stream",
     "text": [
      "['14:07:43', '14:07:43', '14:07:43', '14:07:37', '14:07:36', '14:07:31', '14:07:31', '14:07:22', '14:07:21']\n"
     ]
    }
   ],
   "source": [
    "# check that time has done what we wanted it to\n",
    "print(time[1:10])"
   ]
  },
  {
   "cell_type": "code",
   "execution_count": 100,
   "metadata": {
    "collapsed": false
   },
   "outputs": [],
   "source": [
    "# firstly you need to create a file called time in the command line using\n",
    "# touch time.txt\n",
    "\n",
    "# this part saves each item in list time to time.txt and then starts a new line in that text file\n",
    "dataFile = open('time.txt', 'w')\n",
    "\n",
    "for item in time:\n",
    "    dataFile.write(str(item) + '\\n')\n",
    "\n",
    "dataFile.close()"
   ]
  },
  {
   "cell_type": "code",
   "execution_count": 104,
   "metadata": {
    "collapsed": false
   },
   "outputs": [],
   "source": [
    "# checking that length time = length x and length y\n",
    "assert(len(time) == len(x))"
   ]
  }
 ],
 "metadata": {
  "kernelspec": {
   "display_name": "Python 3",
   "language": "python",
   "name": "python3"
  },
  "language_info": {
   "codemirror_mode": {
    "name": "ipython",
    "version": 3
   },
   "file_extension": ".py",
   "mimetype": "text/x-python",
   "name": "python",
   "nbconvert_exporter": "python",
   "pygments_lexer": "ipython3",
   "version": "3.5.1"
  }
 },
 "nbformat": 4,
 "nbformat_minor": 0
}
